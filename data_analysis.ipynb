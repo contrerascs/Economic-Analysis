{
 "cells": [
  {
   "cell_type": "code",
   "execution_count": 1,
   "id": "6d32be3b",
   "metadata": {},
   "outputs": [],
   "source": [
    "import pandas as pd\n",
    "import numpy as np\n",
    "import matplotlib.pyplot as plt\n",
    "import plotly.express as px\n",
    "from credenciales import API_KEY\n",
    "from fredapi import Fred"
   ]
  },
  {
   "cell_type": "code",
   "execution_count": 2,
   "id": "4c2867ee",
   "metadata": {},
   "outputs": [],
   "source": [
    "plt.style.use('fivethirtyeight')\n",
    "pd.set_option('display.max_columns', 500)\n",
    "color_pal = plt.rcParams['axes.prop_cycle'].by_key()['color']"
   ]
  },
  {
   "cell_type": "markdown",
   "id": "6b8065ce",
   "metadata": {},
   "source": [
    "## 1. Create The Fred Object"
   ]
  },
  {
   "cell_type": "code",
   "execution_count": 3,
   "id": "91a45b4c",
   "metadata": {},
   "outputs": [],
   "source": [
    "fred = Fred(api_key=API_KEY)"
   ]
  },
  {
   "cell_type": "markdown",
   "id": "3ed9caae",
   "metadata": {},
   "source": [
    "## 2. Search for economic data!"
   ]
  },
  {
   "cell_type": "code",
   "execution_count": 4,
   "id": "9e5ddd61",
   "metadata": {},
   "outputs": [],
   "source": [
    "sp_search = fred.search('S&P', order_by='popularity')"
   ]
  },
  {
   "cell_type": "markdown",
   "id": "24d1ad59",
   "metadata": {},
   "source": [
    "# 3. Pull Raw Data & Plot"
   ]
  },
  {
   "cell_type": "code",
   "execution_count": 5,
   "id": "9aa583e5",
   "metadata": {},
   "outputs": [],
   "source": [
    "sp500 = fred.get_series(series_id='SP500')\n",
    "#sp500.plot(figsize=(10,5), title='S&P 500', lw=2)"
   ]
  },
  {
   "cell_type": "markdown",
   "id": "8997a0f3",
   "metadata": {},
   "source": [
    "# 4. Pull and join multiple data series"
   ]
  },
  {
   "cell_type": "code",
   "execution_count": 25,
   "id": "8828897e",
   "metadata": {},
   "outputs": [
    {
     "data": {
      "text/plain": [
       "(46, 15)"
      ]
     },
     "execution_count": 25,
     "metadata": {},
     "output_type": "execute_result"
    }
   ],
   "source": [
    "unemp_df = fred.search('unemployment state', filter= ('frequency','Monthly'))\n",
    "unemp_df = unemp_df.query('seasonal_adjustment == \"Seasonally Adjusted\" and units == \"Percent\" ')\n",
    "unemp_df.loc[unemp_df['title'].str.contains('Unemployment Rate')].shape"
   ]
  },
  {
   "cell_type": "code",
   "execution_count": 31,
   "id": "fd2f4147",
   "metadata": {},
   "outputs": [],
   "source": [
    "all_results = []\n",
    "\n",
    "for myid in unemp_df.index:\n",
    "    results = fred.get_series(myid)\n",
    "    results = results.to_frame(name=myid)\n",
    "    all_results.append(results)"
   ]
  }
 ],
 "metadata": {
  "kernelspec": {
   "display_name": ".venv",
   "language": "python",
   "name": "python3"
  },
  "language_info": {
   "codemirror_mode": {
    "name": "ipython",
    "version": 3
   },
   "file_extension": ".py",
   "mimetype": "text/x-python",
   "name": "python",
   "nbconvert_exporter": "python",
   "pygments_lexer": "ipython3",
   "version": "3.12.2"
  }
 },
 "nbformat": 4,
 "nbformat_minor": 5
}
